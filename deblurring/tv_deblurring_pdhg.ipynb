{
 "cells": [
  {
   "cell_type": "code",
   "execution_count": null,
   "metadata": {},
   "outputs": [],
   "source": [
    "# import libraries\n",
    "from cil.optimisation.operators import BlockOperator, GradientOperator, BlurringOperator\n",
    "from cil.optimisation.functions import ZeroFunction, MixedL21Norm,BlockFunction, L2NormSquared\n",
    "from cil.optimisation.algorithms import PDHG\n",
    "from cil.utilities import dataexample\n",
    "from cil.utilities import noise\n",
    "from cil.utilities.display import show2D\n",
    "\n",
    "from skimage.metrics import structural_similarity as ssim\n",
    "\n",
    "import numpy as np"
   ]
  },
  {
   "cell_type": "code",
   "execution_count": null,
   "metadata": {},
   "outputs": [],
   "source": [
    "# Load a color image from the CIL gallery.\n",
    "data= dataexample.SHAPES.get()\n",
    "ig = data.geometry\n",
    "\n",
    "# Parameters for point spread function PSF (size and std)\n",
    "ks          = 5; \n",
    "ksigma      = 2.0;\n",
    "\n",
    "# Create 1D PSF and 2D as outer product, then normalise.\n",
    "w           = np.exp(-np.arange(-(ks-1)/2,(ks-1)/2+1)**2/(2*ksigma**2))\n",
    "w.shape     = (ks,1)\n",
    "PSF         = w*np.transpose(w)\n",
    "PSF         = PSF/(PSF**2).sum()\n",
    "PSF         = PSF/PSF.sum()\n",
    "\n",
    "# Display PSF as image\n",
    "show2D(PSF, origin=\"upper\", title=\"PSF\")\n",
    "\n",
    "# Create blurring operator and apply to clean image to produce blurred and display.\n",
    "# Then add gaussian noise\n",
    "BOP = BlurringOperator(PSF,ig)\n",
    "blurred_noisy = noise.gaussian(BOP.direct(data), seed = 10, var = 0.0005)\n",
    "                                          \n",
    "show2D(blurred_noisy,origin=\"upper\", title=\"Blurred+Noisy () image\")"
   ]
  },
  {
   "cell_type": "code",
   "execution_count": null,
   "metadata": {},
   "outputs": [],
   "source": [
    "# Specify total variation regularised least squares\n",
    "\n",
    "# Create operators\n",
    "op1 = GradientOperator(ig, correlation=\"space\")\n",
    "op2 = BOP\n",
    "\n",
    "# Set regularisation parameter.\n",
    "alpha = 0.02\n",
    "\n",
    "# Create functions to be blocked with operators\n",
    "f1 = alpha * MixedL21Norm()\n",
    "f2 = 0.5 * L2NormSquared(b=blurredimage)\n",
    "\n",
    "# Create BlockOperator\n",
    "operator = BlockOperator(op1, op2, shape=(2,1) ) \n",
    "\n",
    "# Create functions      \n",
    "f = BlockFunction(f1, f2) \n",
    "g = ZeroFunction()\n",
    "        \n",
    "# Compute operator Norm\n",
    "normK = operator.norm()\n",
    "\n",
    "# Primal & dual stepsizes\n",
    "sigma = 1/normK\n",
    "tau = 1/normK\n",
    "\n",
    "# Setup and run the PDHG algorithm\n",
    "pdhg = PDHG(f=f,g=g,operator=operator, tau=tau, sigma=sigma,\n",
    "            max_iteration = 500,update_objective_interval = 100)\n",
    "pdhg.run(verbose=2)"
   ]
  },
  {
   "cell_type": "code",
   "execution_count": null,
   "metadata": {},
   "outputs": [],
   "source": [
    "val_ssim = ssim(data.as_array(), pdhg.solution.as_array(), data_range = 1.)\n",
    "show2D([data, blurredimage, pdhg.solution, (pdhg.solution-data).abs()],\n",
    "      title=[\"Ground Truth\", \n",
    "              \"Blurred image\", \n",
    "              \"Total variation restoration (SSIM = {:.2f}): alpha = {}\".format(val_ssim, alpha),\n",
    "              \"Absolute Difference\"],\n",
    "     origin = \"upper\")"
   ]
  },
  {
   "cell_type": "code",
   "execution_count": null,
   "metadata": {},
   "outputs": [],
   "source": []
  }
 ],
 "metadata": {
  "kernelspec": {
   "display_name": "Python [conda env:cil21_ep]",
   "language": "python",
   "name": "conda-env-cil21_ep-py"
  },
  "language_info": {
   "codemirror_mode": {
    "name": "ipython",
    "version": 3
   },
   "file_extension": ".py",
   "mimetype": "text/x-python",
   "name": "python",
   "nbconvert_exporter": "python",
   "pygments_lexer": "ipython3",
   "version": "3.8.8"
  }
 },
 "nbformat": 4,
 "nbformat_minor": 4
}
