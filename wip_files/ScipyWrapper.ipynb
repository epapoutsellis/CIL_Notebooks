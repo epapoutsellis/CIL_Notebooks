{
 "cells": [
  {
   "cell_type": "code",
   "execution_count": 1,
   "metadata": {},
   "outputs": [],
   "source": [
    "import numpy as np\n",
    "import dask.array as da\n",
    "import time\n",
    "from cil.optimisation.operators import IdentityOperator\n",
    "from cil.framework import ImageGeometry\n",
    "import scipy.sparse"
   ]
  },
  {
   "cell_type": "code",
   "execution_count": 2,
   "metadata": {},
   "outputs": [],
   "source": [
    "def to_scipy_operator(operator):\n",
    "        \n",
    "    dtype = operator.domain_geometry().allocate().dtype\n",
    "    shape = (np.prod(operator.range.shape), np.prod(operator.domain.shape))\n",
    "    \n",
    "    def matvec(vec):\n",
    "        return operator.direct(vec.reshape(operator.domain.shape)).ravel()\n",
    "                                \n",
    "    def rmatvec(vec):\n",
    "        return operator.adjoint(vec.reshape(operator.range.shape)).ravel()\n",
    "\n",
    "    return scipy.sparse.linalg.LinearOperator(shape=shape,\n",
    "                                              matvec=matvec,\n",
    "                                              rmatvec=rmatvec,\n",
    "                                              dtype=dtype)    \n",
    "    "
   ]
  },
  {
   "cell_type": "code",
   "execution_count": 5,
   "metadata": {},
   "outputs": [
    {
     "name": "stdout",
     "output_type": "stream",
     "text": [
      "(3, 3)\n"
     ]
    }
   ],
   "source": [
    "ig = ImageGeometry(3,1)\n",
    "Id = IdentityOperator(ig)\n",
    "Id_scipy = to_scipy_operator(Id)"
   ]
  },
  {
   "cell_type": "code",
   "execution_count": 10,
   "metadata": {},
   "outputs": [],
   "source": [
    "import scipy.sparse.linalg as scipy_solvers\n",
    "result, status = scipy_solvers.cg(Id_scipy, np.array([0, 1, 0]))"
   ]
  },
  {
   "cell_type": "code",
   "execution_count": 12,
   "metadata": {},
   "outputs": [
    {
     "name": "stdout",
     "output_type": "stream",
     "text": [
      "[0. 1. 0.]\n"
     ]
    }
   ],
   "source": [
    "print(result)"
   ]
  },
  {
   "cell_type": "code",
   "execution_count": 13,
   "metadata": {},
   "outputs": [
    {
     "ename": "ModuleNotFoundError",
     "evalue": "No module named 'cvxpy'",
     "output_type": "error",
     "traceback": [
      "\u001b[0;31m---------------------------------------------------------------------------\u001b[0m",
      "\u001b[0;31mModuleNotFoundError\u001b[0m                       Traceback (most recent call last)",
      "\u001b[0;32m<ipython-input-13-3ddd254ee977>\u001b[0m in \u001b[0;36m<module>\u001b[0;34m\u001b[0m\n\u001b[1;32m      1\u001b[0m \u001b[0;31m###### CVXPY wrapper\u001b[0m\u001b[0;34m\u001b[0m\u001b[0;34m\u001b[0m\u001b[0;34m\u001b[0m\u001b[0m\n\u001b[1;32m      2\u001b[0m \u001b[0;34m\u001b[0m\u001b[0m\n\u001b[0;32m----> 3\u001b[0;31m \u001b[0;32mimport\u001b[0m \u001b[0mcvxpy\u001b[0m \u001b[0;32mas\u001b[0m \u001b[0mcp\u001b[0m\u001b[0;34m\u001b[0m\u001b[0;34m\u001b[0m\u001b[0m\n\u001b[0m\u001b[1;32m      4\u001b[0m \u001b[0;34m\u001b[0m\u001b[0m\n\u001b[1;32m      5\u001b[0m \u001b[0;34m\u001b[0m\u001b[0m\n",
      "\u001b[0;31mModuleNotFoundError\u001b[0m: No module named 'cvxpy'"
     ]
    }
   ],
   "source": [
    "###### CVXPY wrapper\n",
    "\n",
    "import cvxpy as cp\n",
    "\n",
    "\n",
    "# U = cp.Variable(shape=(rows, cols))\n",
    "# obj = cp.Minimize(cp.tv(U))\n",
    "# constraints = [cp.multiply(known, U) == cp.multiply(known, u_corr)]\n",
    "# prob = cp.Problem(obj, constraints)\n",
    "\n",
    "# # Use SCS to solve the problem.\n",
    "# prob.solve(verbose=True, solver=cp.SCS)\n",
    "# print(\"optimal objective value: {}\".format(obj.value))"
   ]
  },
  {
   "cell_type": "code",
   "execution_count": null,
   "metadata": {},
   "outputs": [],
   "source": []
  }
 ],
 "metadata": {
  "kernelspec": {
   "display_name": "Python [conda env:CIL2_submit] *",
   "language": "python",
   "name": "conda-env-CIL2_submit-py"
  },
  "language_info": {
   "codemirror_mode": {
    "name": "ipython",
    "version": 3
   },
   "file_extension": ".py",
   "mimetype": "text/x-python",
   "name": "python",
   "nbconvert_exporter": "python",
   "pygments_lexer": "ipython3",
   "version": "3.7.9"
  }
 },
 "nbformat": 4,
 "nbformat_minor": 4
}
