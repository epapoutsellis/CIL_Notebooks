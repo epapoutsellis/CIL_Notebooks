{
 "cells": [
  {
   "cell_type": "markdown",
   "id": "welsh-northwest",
   "metadata": {},
   "source": [
    "# Core Imaging Library demos \n",
    "\n",
    "## The examples are organised into directories according to topic:\n",
    "\n",
    "-   [Denoising](denoising/index.ipynb)\n",
    "-   [Deblurring](deblurring/index.ipynb)\n",
    "-   [Inpainting](inpainting/index.ipynb)\n",
    "-   [Tomography](tomography/index.ipynb)"
   ]
  },
  {
   "cell_type": "code",
   "execution_count": null,
   "id": "dirty-survival",
   "metadata": {},
   "outputs": [],
   "source": []
  }
 ],
 "metadata": {
  "kernelspec": {
   "display_name": "Python [conda env:cil21_ep] *",
   "language": "python",
   "name": "conda-env-cil21_ep-py"
  },
  "language_info": {
   "codemirror_mode": {
    "name": "ipython",
    "version": 3
   },
   "file_extension": ".py",
   "mimetype": "text/x-python",
   "name": "python",
   "nbconvert_exporter": "python",
   "pygments_lexer": "ipython3",
   "version": "3.8.8"
  }
 },
 "nbformat": 4,
 "nbformat_minor": 5
}
