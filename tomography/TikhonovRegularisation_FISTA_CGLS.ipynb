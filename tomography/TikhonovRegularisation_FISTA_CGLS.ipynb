{
 "cells": [
  {
   "cell_type": "code",
   "execution_count": null,
   "metadata": {},
   "outputs": [],
   "source": [
    "# import libraries\n",
    "from cil.optimisation.algorithms import CGLS, FISTA\n",
    "from cil.optimisation.functions import OperatorCompositionFunction, L2NormSquared\n",
    "from cil.optimisation.operators import BlockOperator, IdentityOperator\n",
    "from cil.framework import ImageGeometry, AcquisitionGeometry, AcquisitionData, BlockDataContainer\n",
    "from cil.plugins.astra.operators import ProjectionOperator\n",
    "from cil.plugins.astra.processors import FBP\n",
    "from cil.utilities.display import show2D\n",
    "\n",
    "import numpy as np\n",
    "import os, sys\n",
    "\n",
    "import tomophantom\n",
    "from tomophantom import TomoP2D"
   ]
  },
  {
   "cell_type": "code",
   "execution_count": null,
   "metadata": {},
   "outputs": [],
   "source": [
    "# Load a tomophantom image \n",
    "model = 1 # select a model number from the library\n",
    "N = 256 # set dimension of the phantom\n",
    "path = os.path.dirname(tomophantom.__file__)\n",
    "path_library2D = os.path.join(path, \"Phantom2DLibrary.dat\")\n",
    "\n",
    "phantom2D_np = TomoP2D.Model(model, N, path_library2D)    \n",
    "ig = ImageGeometry(voxel_num_x=N, voxel_num_y=N, voxel_size_x = 0.1, voxel_size_y = 0.1)\n",
    "\n",
    "phantom2D = ig.allocate()\n",
    "phantom2D.fill(phantom2D_np)"
   ]
  },
  {
   "cell_type": "code",
   "execution_count": null,
   "metadata": {},
   "outputs": [],
   "source": [
    "# Create Acquisition Geometry\n",
    "detectors =  int(np.sqrt(2)*N)\n",
    "angles = np.linspace(0, np.pi, 180, dtype=np.float32)\n",
    "\n",
    "ag = AcquisitionGeometry.create_Parallel2D()\\\n",
    "                        .set_angles(angles,angle_unit=\"radian\")\\\n",
    "                        .set_panel(detectors, pixel_size=0.1)"
   ]
  },
  {
   "cell_type": "code",
   "execution_count": null,
   "metadata": {},
   "outputs": [],
   "source": [
    "device = \"gpu\""
   ]
  },
  {
   "cell_type": "code",
   "execution_count": null,
   "metadata": {},
   "outputs": [],
   "source": [
    "# Create Projection Operator\n",
    "A = ProjectionOperator(ig, ag, device )"
   ]
  },
  {
   "cell_type": "code",
   "execution_count": null,
   "metadata": {},
   "outputs": [],
   "source": [
    "# Create projection data and corrupt with noise\n",
    "np.random.seed(10)\n",
    "\n",
    "data = A.direct(phantom2D)\n",
    "noisy_data = ag.allocate()\n",
    "noisy_data.fill(data.as_array() + np.random.normal(0, 0.5, ag.shape))"
   ]
  },
  {
   "cell_type": "code",
   "execution_count": null,
   "metadata": {},
   "outputs": [],
   "source": [
    "# FBP reconstruction\n",
    "fbp = FBP(ig, ag)(noisy_data)"
   ]
  },
  {
   "cell_type": "code",
   "execution_count": null,
   "metadata": {},
   "outputs": [],
   "source": [
    "alpha = 5"
   ]
  },
  {
   "cell_type": "code",
   "execution_count": null,
   "metadata": {},
   "outputs": [],
   "source": [
    "# Setup and run FISTA\n",
    "f = OperatorCompositionFunction(L2NormSquared(b=noisy_data),A)\n",
    "g = alpha * L2NormSquared()\n",
    "fista = FISTA(initial=ig.allocate(), f=f, g=g, max_iteration=200, update_objective_interval=50)\n",
    "fista.run(verbose=1)"
   ]
  },
  {
   "cell_type": "code",
   "execution_count": null,
   "metadata": {},
   "outputs": [],
   "source": [
    "# Setup and run Regularised CGLS reconstruction, Tikhonov regularisation\n",
    "block_operator = BlockOperator( A, np.sqrt(alpha) * IdentityOperator(ig), shape=(2,1))\n",
    "block_data = BlockDataContainer(noisy_data, ig.allocate())\n",
    "\n",
    "cgls_reg = CGLS(initial=ig.allocate(), operator = block_operator, data = block_data, \n",
    "            max_iteration=100, update_objective_interval=10)\n",
    "cgls_reg.run(100, verbose=1)"
   ]
  },
  {
   "cell_type": "code",
   "execution_count": null,
   "metadata": {},
   "outputs": [],
   "source": [
    "show2D([phantom2D, fbp, cgls_reg.solution, fista.solution, (cgls_reg.solution-fista.solution).abs()],\n",
    "          title=[\"Phantom\", \"Filtered BackProjection\", \"CGLS\", \"FISTA\", \"Abs. Difference FISTA vs CGLS\"],\n",
    "         origin = \"upper\", cmap=\"inferno\")"
   ]
  },
  {
   "cell_type": "code",
   "execution_count": null,
   "metadata": {},
   "outputs": [],
   "source": []
  }
 ],
 "metadata": {
  "kernelspec": {
   "display_name": "Python [conda env:cil21_ep]",
   "language": "python",
   "name": "conda-env-cil21_ep-py"
  },
  "language_info": {
   "codemirror_mode": {
    "name": "ipython",
    "version": 3
   },
   "file_extension": ".py",
   "mimetype": "text/x-python",
   "name": "python",
   "nbconvert_exporter": "python",
   "pygments_lexer": "ipython3",
   "version": "3.8.8"
  }
 },
 "nbformat": 4,
 "nbformat_minor": 4
}
