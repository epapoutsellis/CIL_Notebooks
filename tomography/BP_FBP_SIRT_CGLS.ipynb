{
 "cells": [
  {
   "cell_type": "code",
   "execution_count": null,
   "metadata": {},
   "outputs": [],
   "source": [
    "# import libraries\n",
    "from cil.optimisation.algorithms import SIRT, CGLS\n",
    "from cil.framework import ImageGeometry, AcquisitionGeometry, AcquisitionData\n",
    "from cil.plugins.astra.operators import ProjectionOperator\n",
    "from cil.plugins.astra.processors import FBP\n",
    "from cil.utilities.display import show2D\n",
    "\n",
    "import numpy as np\n",
    "import os, sys\n",
    "\n",
    "import tomophantom\n",
    "from tomophantom import TomoP2D"
   ]
  },
  {
   "cell_type": "code",
   "execution_count": null,
   "metadata": {},
   "outputs": [],
   "source": [
    "# Load a tomophantom image \n",
    "model = 12 # select a model number from the library\n",
    "N = 256 # set dimension of the phantom\n",
    "path = os.path.dirname(tomophantom.__file__)\n",
    "path_library2D = os.path.join(path, \"Phantom2DLibrary.dat\")\n",
    "\n",
    "phantom2D_np = TomoP2D.Model(model, N, path_library2D)    \n",
    "ig = ImageGeometry(voxel_num_x=N, voxel_num_y=N, voxel_size_x = 0.1, voxel_size_y = 0.1)\n",
    "\n",
    "phantom2D = ig.allocate()\n",
    "phantom2D.fill(phantom2D_np)"
   ]
  },
  {
   "cell_type": "code",
   "execution_count": null,
   "metadata": {},
   "outputs": [],
   "source": [
    "# Create Acquisition Geometry\n",
    "detectors =  N\n",
    "angles = np.linspace(0, 180, 180, dtype=np.float32)\n",
    "\n",
    "ag = AcquisitionGeometry.create_Parallel2D()\\\n",
    "                        .set_angles(angles)\\\n",
    "                        .set_panel(detectors, pixel_size=0.1)"
   ]
  },
  {
   "cell_type": "code",
   "execution_count": null,
   "metadata": {},
   "outputs": [],
   "source": [
    "device = \"gpu\""
   ]
  },
  {
   "cell_type": "code",
   "execution_count": null,
   "metadata": {},
   "outputs": [],
   "source": [
    "# Create Projection Operator\n",
    "A = ProjectionOperator(ig, ag, device )"
   ]
  },
  {
   "cell_type": "code",
   "execution_count": null,
   "metadata": {},
   "outputs": [],
   "source": [
    "# Create projection data and corrupt with noise\n",
    "np.random.seed(10)\n",
    "\n",
    "# inverse crime\n",
    "sino = A.direct(phantom2D)\n",
    "\n",
    "# no inverse crime\n",
    "# sino_analytic = TomoP2D.ModelSino(model, N, detectors, angles, path_library2D)\n",
    "\n",
    "noisy_data = ag.allocate()\n",
    "noisy_data.fill(sino + np.random.normal(0, 0.5, ag.shape))"
   ]
  },
  {
   "cell_type": "code",
   "execution_count": null,
   "metadata": {},
   "outputs": [],
   "source": [
    "# Simple Backprojection\n",
    "bp = A.adjoint(noisy_data)"
   ]
  },
  {
   "cell_type": "code",
   "execution_count": null,
   "metadata": {},
   "outputs": [],
   "source": [
    "# FBP reconstruction\n",
    "fbp = FBP(ig, ag)(noisy_data)"
   ]
  },
  {
   "cell_type": "code",
   "execution_count": null,
   "metadata": {},
   "outputs": [],
   "source": [
    "# Setup and run SIRT reconstruction\n",
    "sirt = SIRT(initial=ig.allocate(), operator = A, data = noisy_data, \n",
    "            max_iteration=100, update_objective_interval=10)\n",
    "sirt.run(100, verbose=1)"
   ]
  },
  {
   "cell_type": "code",
   "execution_count": null,
   "metadata": {},
   "outputs": [],
   "source": [
    "# Setup and run CGLS reconstruction\n",
    "cgls = CGLS(initial=ig.allocate(), operator = A, data = noisy_data, \n",
    "            max_iteration=100, update_objective_interval=5)\n",
    "cgls.run(20, verbose=1)"
   ]
  },
  {
   "cell_type": "code",
   "execution_count": null,
   "metadata": {},
   "outputs": [],
   "source": [
    "show2D([phantom2D, noisy_data, bp, fbp, sirt.solution, cgls.solution],\n",
    "          title=[\"Phantom\", \"Noisy Projection Data\", \"Back Projection\", \"Filtered BackProjection\", \"SIRT\", \"CGLS\"],\n",
    "         origin = \"upper\", cmap=\"inferno\")"
   ]
  },
  {
   "cell_type": "code",
   "execution_count": null,
   "metadata": {},
   "outputs": [],
   "source": []
  },
  {
   "cell_type": "code",
   "execution_count": null,
   "metadata": {},
   "outputs": [],
   "source": []
  }
 ],
 "metadata": {
  "kernelspec": {
   "display_name": "Python [conda env:cil21_ep]",
   "language": "python",
   "name": "conda-env-cil21_ep-py"
  },
  "language_info": {
   "codemirror_mode": {
    "name": "ipython",
    "version": 3
   },
   "file_extension": ".py",
   "mimetype": "text/x-python",
   "name": "python",
   "nbconvert_exporter": "python",
   "pygments_lexer": "ipython3",
   "version": "3.8.8"
  }
 },
 "nbformat": 4,
 "nbformat_minor": 4
}
