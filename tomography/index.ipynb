{
 "cells": [
  {
   "cell_type": "markdown",
   "metadata": {},
   "source": [
    "# Tomography Examples\n",
    "\n",
    "## Simulated data\n",
    "\n",
    "   - [Total Variation restoration (gray) using \"Primal Dual Hybrid Gradient\" (PDHG) algorithm.](Gaussian/tv_denoising_pdhg_gray.ipynb)   \n",
    "\n",
    "## Real Data\n",
    "\n",
    "   - [Total Variation restoration (gray) using \"Primal Dual Hybrid Gradient\" (PDHG) algorithm.](SaltandPepper/tv_denoising_pdhg_gray.ipynb)           "
   ]
  },
  {
   "cell_type": "code",
   "execution_count": null,
   "metadata": {},
   "outputs": [],
   "source": []
  }
 ],
 "metadata": {
  "kernelspec": {
   "display_name": "Python [conda env:CIL2_submit] *",
   "language": "python",
   "name": "conda-env-CIL2_submit-py"
  },
  "language_info": {
   "codemirror_mode": {
    "name": "ipython",
    "version": 3
   },
   "file_extension": ".py",
   "mimetype": "text/x-python",
   "name": "python",
   "nbconvert_exporter": "python",
   "pygments_lexer": "ipython3",
   "version": "3.7.9"
  }
 },
 "nbformat": 4,
 "nbformat_minor": 4
}
