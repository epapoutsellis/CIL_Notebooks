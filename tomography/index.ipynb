{
 "cells": [
  {
   "cell_type": "markdown",
   "metadata": {},
   "source": [
    "# Tomography Examples\n",
    "\n",
    "## Simulated data\n",
    "\n",
    "   - [Back Projection, Filtered BackProjection, SIRT and CGLS.](BP_FBP_SIRT_CGLS.ipynb)  \n",
    "   - [Total Variation reconstruction using \"Primal Dual Hybrid Gradient\" (PDHG) algorithm.](TotalVariation_PDHG.ipynb)   \n",
    "   - [Total Variation reconstruction using \"Linearised ADMM\".](TotalVariation_ADMM.ipynb)\n",
    "   - [Total Generalised Variation reconstruction using PDHG.](TotalGeneralisedVariation_PDHG.ipynb) \n",
    "   - [TV_L1_L2NormSquared_regularisers_FISTA](TV_L1_L2NormSquared_FISTA.ipynb)  \n",
    "   - [Tikhonov Regularisation with CGLS and FISTA](TikhonovRegularisation_FISTA_CGLS.ipynb)     \n",
    "\n",
    "## Real Data\n",
    "\n",
    "   - TODO\n",
    "          "
   ]
  },
  {
   "cell_type": "code",
   "execution_count": null,
   "metadata": {},
   "outputs": [],
   "source": []
  }
 ],
 "metadata": {
  "kernelspec": {
   "display_name": "Python [conda env:CIL2_submit]",
   "language": "python",
   "name": "conda-env-CIL2_submit-py"
  },
  "language_info": {
   "codemirror_mode": {
    "name": "ipython",
    "version": 3
   },
   "file_extension": ".py",
   "mimetype": "text/x-python",
   "name": "python",
   "nbconvert_exporter": "python",
   "pygments_lexer": "ipython3",
   "version": "3.7.9"
  }
 },
 "nbformat": 4,
 "nbformat_minor": 4
}
