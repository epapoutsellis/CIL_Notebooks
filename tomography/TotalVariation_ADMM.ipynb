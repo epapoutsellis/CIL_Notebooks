{
 "cells": [
  {
   "cell_type": "code",
   "execution_count": null,
   "metadata": {},
   "outputs": [],
   "source": [
    "# import libraries\n",
    "from cil.optimisation.algorithms import LADMM, PDHG\n",
    "from cil.optimisation.functions import KullbackLeibler, WeightedL2NormSquared, MixedL21Norm, BlockFunction, IndicatorBox, TotalVariation\n",
    "from cil.optimisation.operators import BlockOperator, GradientOperator, IdentityOperator\n",
    "from cil.framework import ImageGeometry, AcquisitionGeometry\n",
    "from cil.plugins.astra.operators import ProjectionOperator\n",
    "from cil.utilities.display import show2D\n",
    "from cil.plugins.ccpi_regularisation.functions import FGP_TV \n",
    "\n",
    "import matplotlib.pyplot as plt\n",
    "import os, sys\n",
    "import numpy as np\n",
    "\n",
    "import tomophantom\n",
    "from tomophantom import TomoP2D"
   ]
  },
  {
   "cell_type": "code",
   "execution_count": null,
   "metadata": {},
   "outputs": [],
   "source": [
    "# Load a tomophantom image \n",
    "model = 12 # select a model number from the library\n",
    "N = 256 # set dimension of the phantom\n",
    "path = os.path.dirname(tomophantom.__file__)\n",
    "path_library2D = os.path.join(path, \"Phantom2DLibrary.dat\")\n",
    "\n",
    "phantom2D_np = TomoP2D.Model(model, N, path_library2D)    \n",
    "ig = ImageGeometry(voxel_num_x=N, voxel_num_y=N, voxel_size_x = 0.5, voxel_size_y = 0.5)\n",
    "\n",
    "phantom2D = ig.allocate()\n",
    "phantom2D.fill(phantom2D_np)"
   ]
  },
  {
   "cell_type": "code",
   "execution_count": null,
   "metadata": {},
   "outputs": [],
   "source": [
    "# Create Acquisition Geometry\n",
    "detectors =  int(np.sqrt(2)*N)\n",
    "angles = np.linspace(0, np.pi, 90, dtype=np.float32)\n",
    "\n",
    "ag = AcquisitionGeometry.create_Parallel2D()\\\n",
    "                        .set_angles(angles,angle_unit=\"radian\")\\\n",
    "                        .set_panel(detectors, pixel_size=0.5)"
   ]
  },
  {
   "cell_type": "code",
   "execution_count": null,
   "metadata": {},
   "outputs": [],
   "source": [
    "device = \"gpu\""
   ]
  },
  {
   "cell_type": "code",
   "execution_count": null,
   "metadata": {},
   "outputs": [],
   "source": [
    "# Create Projection Operator\n",
    "A = ProjectionOperator(ig, ag, device )"
   ]
  },
  {
   "cell_type": "code",
   "execution_count": null,
   "metadata": {},
   "outputs": [],
   "source": [
    "# Create projection data and corrupt with noise\n",
    "np.random.seed(10)\n",
    "\n",
    "data = A.direct(phantom2D)\n",
    "noisy_data = ag.allocate()\n",
    "\n",
    "eta = ag.allocate(5)\n",
    "scale = 2\n",
    "n1 = np.random.poisson( scale*(data.as_array() + eta.as_array()))/scale\n",
    "noisy_data.fill(n1)"
   ]
  },
  {
   "cell_type": "code",
   "execution_count": null,
   "metadata": {},
   "outputs": [],
   "source": [
    "show2D([phantom2D, data, noisy_data], num_cols=3, cmap=\"inferno\")"
   ]
  },
  {
   "cell_type": "code",
   "execution_count": null,
   "metadata": {},
   "outputs": [],
   "source": [
    "# Regularisation parameter\n",
    "alpha = 0.5"
   ]
  },
  {
   "cell_type": "code",
   "execution_count": null,
   "metadata": {},
   "outputs": [],
   "source": [
    "# Setup and run ADMM  algorithm\n",
    "Grad = GradientOperator(ig)\n",
    "K = BlockOperator(Grad, A)\n",
    "g = BlockFunction(alpha * MixedL21Norm(), KullbackLeibler(b=noisy_data,eta=eta))\n",
    "f = IndicatorBox(lower=0.0)\n",
    "\n",
    "normK = K.norm()\n",
    "sigma = 1.\n",
    "tau = sigma/normK**2\n",
    "\n",
    "admm = LADMM(f=f, g=g, operator=K, sigma=sigma, tau=tau,\n",
    "           max_iteration=1000, update_objective_interval=200)\n",
    "admm.run(verbose=1)  "
   ]
  },
  {
   "cell_type": "code",
   "execution_count": null,
   "metadata": {},
   "outputs": [],
   "source": [
    "# Setup and run PDHG implicit algorithm\n",
    "sigma = 1.\n",
    "tau = 1./(sigma*normK**2)\n",
    "pdhg = PDHG(f=g, g=f, operator=K, sigma=sigma, tau=tau,\n",
    "           max_iteration=1000, update_objective_interval=200)\n",
    "pdhg.run(verbose=2)"
   ]
  },
  {
   "cell_type": "code",
   "execution_count": null,
   "metadata": {},
   "outputs": [],
   "source": [
    "show2D([phantom2D, admm.solution, pdhg.solution, (admm.solution-pdhg.solution).abs()], \n",
    "       title=[\"Ground Truth\", \"ADMM \", \"PDHG\",\"AbsDiff\"], cmap=\"inferno\")\n",
    "\n",
    "plt.figure(figsize=(10,5))            \n",
    "plt.plot(np.linspace(0,ig.shape[1],ig.shape[1]), phantom2D.as_array()[int(ig.shape[0]/2),:], label = 'GTruth')\n",
    "plt.plot(np.linspace(0,ig.shape[1],ig.shape[1]), admm.get_output().as_array()[int(ig.shape[0]/2),:], label = 'ADMM reconstruction')\n",
    "plt.plot(np.linspace(0,ig.shape[1],ig.shape[1]), pdhg.get_output().as_array()[int(ig.shape[0]/2),:], label = 'PDHG reconstruction')\n",
    "\n",
    "plt.legend()\n",
    "plt.title('Middle Line Profiles')\n",
    "plt.show()"
   ]
  }
 ],
 "metadata": {
  "kernelspec": {
   "display_name": "Python [conda env:cil21_ep]",
   "language": "python",
   "name": "conda-env-cil21_ep-py"
  },
  "language_info": {
   "codemirror_mode": {
    "name": "ipython",
    "version": 3
   },
   "file_extension": ".py",
   "mimetype": "text/x-python",
   "name": "python",
   "nbconvert_exporter": "python",
   "pygments_lexer": "ipython3",
   "version": "3.8.8"
  }
 },
 "nbformat": 4,
 "nbformat_minor": 4
}
