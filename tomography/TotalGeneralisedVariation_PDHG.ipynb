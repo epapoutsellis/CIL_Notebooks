{
 "cells": [
  {
   "cell_type": "code",
   "execution_count": null,
   "metadata": {},
   "outputs": [],
   "source": [
    "# import libraries\n",
    "from cil.optimisation.algorithms import PDHG\n",
    "from cil.optimisation.functions import L2NormSquared, MixedL21Norm, BlockFunction, IndicatorBox, TotalVariation, ZeroFunction\n",
    "from cil.optimisation.operators import BlockOperator, GradientOperator, IdentityOperator, SymmetrisedGradientOperator, ZeroOperator\n",
    "from cil.framework import ImageGeometry, AcquisitionGeometry, AcquisitionData, BlockDataContainer\n",
    "from cil.plugins.astra.operators import ProjectionOperator\n",
    "from cil.utilities.display import show2D\n",
    "\n",
    "import numpy as np\n",
    "import os, sys\n",
    "\n",
    "import tomophantom\n",
    "from tomophantom import TomoP2D"
   ]
  },
  {
   "cell_type": "code",
   "execution_count": null,
   "metadata": {},
   "outputs": [],
   "source": [
    "# Load a tomophantom image \n",
    "model = 2 # select a model number from the library\n",
    "N = 128 # set dimension of the phantom\n",
    "path = os.path.dirname(tomophantom.__file__)\n",
    "path_library2D = os.path.join(path, \"Phantom2DLibrary.dat\")\n",
    "\n",
    "phantom2D_np = TomoP2D.Model(model, N, path_library2D)    \n",
    "ig = ImageGeometry(voxel_num_x=N, voxel_num_y=N, voxel_size_x = 0.5, voxel_size_y = 0.5)\n",
    "\n",
    "phantom2D = ig.allocate()\n",
    "phantom2D.fill(phantom2D_np)"
   ]
  },
  {
   "cell_type": "code",
   "execution_count": null,
   "metadata": {},
   "outputs": [],
   "source": [
    "# Create Acquisition Geometry\n",
    "\n",
    "detectors =  int(np.sqrt(2)*N)\n",
    "angles = np.linspace(0, np.pi, 180, dtype=np.float32)\n",
    "\n",
    "ag = AcquisitionGeometry.create_Parallel2D()\\\n",
    "                        .set_angles(angles,angle_unit=\"radian\")\\\n",
    "                        .set_panel(detectors, pixel_size=0.5)"
   ]
  },
  {
   "cell_type": "code",
   "execution_count": null,
   "metadata": {},
   "outputs": [],
   "source": [
    "device = \"gpu\""
   ]
  },
  {
   "cell_type": "code",
   "execution_count": null,
   "metadata": {},
   "outputs": [],
   "source": [
    "# Create Projection Operator\n",
    "A = ProjectionOperator(ig, ag, device )"
   ]
  },
  {
   "cell_type": "code",
   "execution_count": null,
   "metadata": {},
   "outputs": [],
   "source": [
    "# Create projection data and corrupt with noise\n",
    "np.random.seed(10)\n",
    "\n",
    "data = A.direct(phantom2D)\n",
    "noisy_data = ag.allocate()\n",
    "noisy_data.fill(data.as_array() + np.random.normal(0, 1, ag.shape))"
   ]
  },
  {
   "cell_type": "code",
   "execution_count": null,
   "metadata": {},
   "outputs": [],
   "source": [
    "# Regularisation parameters\n",
    "alpha_tgv = 4\n",
    "beta = 0.5*alpha_tgv"
   ]
  },
  {
   "cell_type": "code",
   "execution_count": null,
   "metadata": {},
   "outputs": [],
   "source": [
    "K11 = GradientOperator(ig)\n",
    "K12 = IdentityOperator(K11.range)\n",
    "K22 = SymmetrisedGradientOperator(K11.range)    \n",
    "K21 = ZeroOperator(ig, K22.range) \n",
    "K31 = A\n",
    "K32 = ZeroOperator(K11.range, ag) \n",
    "\n",
    "K = BlockOperator(K11, -K12, K21, K22, K31, K32, shape=(3,2) )   \n",
    "\n",
    "f1 = alpha_tgv * MixedL21Norm()\n",
    "f2 = beta * MixedL21Norm() \n",
    "f3 = 0.5 * L2NormSquared(b=noisy_data)\n",
    "\n",
    "F = BlockFunction(f1, f2, f3)         \n",
    "G = BlockFunction(IndicatorBox(lower=0.0), ZeroFunction())\n",
    "\n",
    "# Compute operator Norm\n",
    "normK = K.norm()\n",
    "\n",
    "# Primal & dual stepsizes\n",
    "sigma = 1./normK\n",
    "tau = 1./normK\n",
    "\n",
    "# Setup and run the PDHG algorithm\n",
    "pdhg = PDHG(f=F,g=G,operator=K, tau=tau, sigma=sigma,\n",
    "            max_iteration = 5000,\n",
    "            update_objective_interval = 500)\n",
    "pdhg.run(verbose=2)\n"
   ]
  },
  {
   "cell_type": "code",
   "execution_count": null,
   "metadata": {},
   "outputs": [],
   "source": [
    "show2D([phantom2D, pdhg.solution.get_item(0), pdhg.solution.get_item(1).pnorm(2)],\n",
    "          title=[\"Phantom\", \"PDHG - solution u\",\"PDHG - solution w\"],\n",
    "         origin = \"upper\", cmap=\"inferno\", num_cols=3)"
   ]
  },
  {
   "cell_type": "code",
   "execution_count": null,
   "metadata": {},
   "outputs": [],
   "source": []
  }
 ],
 "metadata": {
  "kernelspec": {
   "display_name": "Python [conda env:cil21_ep]",
   "language": "python",
   "name": "conda-env-cil21_ep-py"
  },
  "language_info": {
   "codemirror_mode": {
    "name": "ipython",
    "version": 3
   },
   "file_extension": ".py",
   "mimetype": "text/x-python",
   "name": "python",
   "nbconvert_exporter": "python",
   "pygments_lexer": "ipython3",
   "version": "3.8.8"
  }
 },
 "nbformat": 4,
 "nbformat_minor": 4
}
