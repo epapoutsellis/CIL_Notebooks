{
 "cells": [
  {
   "cell_type": "code",
   "execution_count": null,
   "metadata": {},
   "outputs": [],
   "source": [
    "# import libraries\n",
    "from cil.optimisation.algorithms import FISTA\n",
    "from cil.optimisation.functions import L2NormSquared, L1Norm, TotalVariation, OperatorCompositionFunction\n",
    "from cil.optimisation.operators import BlockOperator, GradientOperator\n",
    "from cil.framework import ImageGeometry, AcquisitionGeometry\n",
    "from cil.plugins.astra.operators import ProjectionOperator\n",
    "from cil.utilities.display import show2D\n",
    "\n",
    "import numpy as np\n",
    "import os, sys\n",
    "\n",
    "import tomophantom\n",
    "from tomophantom import TomoP2D"
   ]
  },
  {
   "cell_type": "code",
   "execution_count": null,
   "metadata": {},
   "outputs": [],
   "source": [
    "# Load a tomophantom image \n",
    "model = 8 # select a model number from the library\n",
    "N = 256 # set dimension of the phantom\n",
    "path = os.path.dirname(tomophantom.__file__)\n",
    "path_library2D = os.path.join(path, \"Phantom2DLibrary.dat\")\n",
    "\n",
    "phantom2D_np = TomoP2D.Model(model, N, path_library2D)    \n",
    "ig = ImageGeometry(voxel_num_x=N, voxel_num_y=N, voxel_size_x = 0.5, voxel_size_y = 0.5)\n",
    "\n",
    "phantom2D = ig.allocate()\n",
    "phantom2D.fill(phantom2D_np)"
   ]
  },
  {
   "cell_type": "code",
   "execution_count": null,
   "metadata": {},
   "outputs": [],
   "source": [
    "# Create Acquisition Geometry\n",
    "detectors =  int(np.sqrt(2)*N)\n",
    "angles = np.linspace(0, np.pi, 180, dtype=np.float32)\n",
    "\n",
    "ag = AcquisitionGeometry.create_Parallel2D()\\\n",
    "                        .set_angles(angles,angle_unit=\"radian\")\\\n",
    "                        .set_panel(detectors, pixel_size=0.5)"
   ]
  },
  {
   "cell_type": "code",
   "execution_count": null,
   "metadata": {},
   "outputs": [],
   "source": [
    "device = \"gpu\""
   ]
  },
  {
   "cell_type": "code",
   "execution_count": null,
   "metadata": {},
   "outputs": [],
   "source": [
    "# Create Projection Operator\n",
    "A = ProjectionOperator(ig, ag, device )"
   ]
  },
  {
   "cell_type": "code",
   "execution_count": null,
   "metadata": {},
   "outputs": [],
   "source": [
    "# Create projection data and corrupt with noise\n",
    "np.random.seed(10)\n",
    "\n",
    "data = A.direct(phantom2D)\n",
    "noisy_data = ag.allocate()\n",
    "noisy_data.fill(data.as_array() + np.random.normal(0, 0.5, ag.shape))"
   ]
  },
  {
   "cell_type": "code",
   "execution_count": null,
   "metadata": {},
   "outputs": [],
   "source": [
    "# Regularisation parameters for L1, L2NormSquared and TV regularisers\n",
    "\n",
    "f = OperatorCompositionFunction(0.5 * L2NormSquared(b=noisy_data), A)\n",
    "\n",
    "alphaL1 = [100, 1000, 1500]\n",
    "alphaL2s = [100, 500, 5000]\n",
    "alphaTV = [1, 1e3, 1.8e3]\n",
    "\n",
    "regulariser = {\"L1\":L1Norm(),\n",
    "               \"L2s\":L2NormSquared(),\n",
    "               \"TV\":TotalVariation(max_iteration=100, lower = 0.)}"
   ]
  },
  {
   "cell_type": "code",
   "execution_count": null,
   "metadata": {},
   "outputs": [],
   "source": [
    "print(\"This will take some time.\\n We have 3 regularisers for 3 different parameters and 200 iterations. \\n\")\n",
    "\n",
    "reconstructions = []\n",
    "info = []\n",
    "\n",
    "for reg, fun  in regulariser.items():\n",
    "    \n",
    "    for i in range(3):\n",
    "        \n",
    "        if reg==\"L1\":\n",
    "            \n",
    "            alpha = alphaL1[i]\n",
    "            \n",
    "        elif  reg==\"L2s\":\n",
    "        \n",
    "            alpha = alphaL2s[i]\n",
    "\n",
    "        elif reg==\"TV\":\n",
    "        \n",
    "            alpha = alphaTV[i]         \n",
    "\n",
    "        else:    \n",
    "            print(\"No regulariser\")\n",
    "    \n",
    "        g = alpha * fun\n",
    "        print(\"Regulariser is {} and alpha = {}\\n\".format(reg, alpha))\n",
    "        \n",
    "        fista = FISTA(initial=ig.allocate(),f=f, g=g, max_iteration=200, update_objective_interval=50)\n",
    "        fista.run(verbose=1)      \n",
    "        \n",
    "        reconstructions.append(fista.solution)\n",
    "        info.append(\" {} , alpha = {}\" .format(reg, alpha))"
   ]
  },
  {
   "cell_type": "code",
   "execution_count": null,
   "metadata": {},
   "outputs": [],
   "source": [
    "show2D(reconstructions, num_cols=3, cmap=\"inferno\", title=info)"
   ]
  }
 ],
 "metadata": {
  "kernelspec": {
   "display_name": "Python [conda env:cil21_ep]",
   "language": "python",
   "name": "conda-env-cil21_ep-py"
  },
  "language_info": {
   "codemirror_mode": {
    "name": "ipython",
    "version": 3
   },
   "file_extension": ".py",
   "mimetype": "text/x-python",
   "name": "python",
   "nbconvert_exporter": "python",
   "pygments_lexer": "ipython3",
   "version": "3.8.8"
  }
 },
 "nbformat": 4,
 "nbformat_minor": 4
}
