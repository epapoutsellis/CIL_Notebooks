{
 "cells": [
  {
   "cell_type": "code",
   "execution_count": null,
   "metadata": {},
   "outputs": [],
   "source": [
    "# Import libraries\n",
    "from cil.framework import ImageGeometry\n",
    "from cil.utilities import dataexample\n",
    "from cil.optimisation.operators import MaskOperator, BlockOperator, GradientOperator\n",
    "from cil.optimisation.functions import ZeroFunction, L2NormSquared, TotalVariation, L1Norm, MixedL21Norm, BlockFunction\n",
    "from cil.optimisation.algorithms import LADMM, PDHG\n",
    "from cil.utilities.display import show2D\n",
    "\n",
    "from skimage.metrics import structural_similarity as ssim\n",
    "\n",
    "import numpy as np\n",
    "\n",
    "from PIL import Image\n",
    "from PIL import ImageFont\n",
    "from PIL import ImageDraw"
   ]
  },
  {
   "cell_type": "code",
   "execution_count": null,
   "metadata": {},
   "outputs": [],
   "source": [
    "# Load Rainbow data\n",
    "data = dataexample.CAMERA.get()\n",
    "ig = data.geometry\n",
    "im = data.array\n",
    "\n",
    "# Create inpainted image using Pillow\n",
    "tmp = Image.fromarray(im)\n",
    "text = \"\\n         Can I move now???          \\n \"*6\n",
    "draw = ImageDraw.Draw(tmp)\n",
    "font = ImageFont.truetype('FreeSerifBold.ttf', 37)\n",
    "draw.text((0, 0), text, font=font)\n",
    "\n",
    "im1 = np.array(tmp)\n",
    "im1 = im1/im1.max()\n",
    "ig1 = ig.copy()\n",
    "data1 = ig1.allocate()\n",
    "data1.fill(im1)\n",
    "show2D(data1, origin=\"upper\")"
   ]
  },
  {
   "cell_type": "code",
   "execution_count": null,
   "metadata": {},
   "outputs": [],
   "source": [
    "# Create mask from corrupted image and apply MaskOperator channelwise\n",
    "tmp_mask_array = np.abs(im1 - im)\n",
    "mask2D = ((data1-data).abs()==0)\n",
    "\n",
    "mask = ig.allocate()\n",
    "mask.fill(mask2D)\n",
    "MO = MaskOperator(mask)\n",
    "\n",
    "# Create missing data image\n",
    "missing_data = MO.direct(data1) \n",
    "show2D(missing_data, origin=\"upper\")"
   ]
  },
  {
   "cell_type": "code",
   "execution_count": null,
   "metadata": {},
   "outputs": [],
   "source": [
    "# Setup and run the ADMM algorithm\n",
    "alpha = 0.05\n",
    "\n",
    "G = BlockFunction(alpha*MixedL21Norm(), L2NormSquared(b=missing_data))\n",
    "F = ZeroFunction()\n",
    "K = BlockOperator(GradientOperator(ig), MO)\n",
    "\n",
    "normK = K.norm()\n",
    "\n",
    "sigma = 1.\n",
    "tau = sigma/normK**2\n",
    "\n",
    "admm = LADMM(f=F, g=G, operator=K, max_iteration=2000, update_objective_interval=500)\n",
    "admm.run(1000,verbose=1)"
   ]
  },
  {
   "cell_type": "code",
   "execution_count": null,
   "metadata": {},
   "outputs": [],
   "source": [
    "val_ssim = ssim(data.as_array(), admm.solution.as_array(), data_range = 1.)\n",
    "\n",
    "show2D([data, missing_data, admm.solution, (admm.solution-data).abs()],\n",
    "      title=[\"Ground Truth\", \n",
    "              \"Missing Data\", \n",
    "              \"Total variation restoration (SSIM = {:.2f}): alpha = {}\".format(val_ssim, alpha),\n",
    "              \"Absolute Difference\"],\n",
    "     origin = \"upper\")"
   ]
  },
  {
   "cell_type": "code",
   "execution_count": null,
   "metadata": {},
   "outputs": [],
   "source": []
  }
 ],
 "metadata": {
  "kernelspec": {
   "display_name": "Python [conda env:cil21_ep] *",
   "language": "python",
   "name": "conda-env-cil21_ep-py"
  },
  "language_info": {
   "codemirror_mode": {
    "name": "ipython",
    "version": 3
   },
   "file_extension": ".py",
   "mimetype": "text/x-python",
   "name": "python",
   "nbconvert_exporter": "python",
   "pygments_lexer": "ipython3",
   "version": "3.8.8"
  }
 },
 "nbformat": 4,
 "nbformat_minor": 4
}
