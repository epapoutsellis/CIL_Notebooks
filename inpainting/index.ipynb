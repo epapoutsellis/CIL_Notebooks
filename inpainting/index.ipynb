{
 "cells": [
  {
   "cell_type": "markdown",
   "metadata": {},
   "source": [
    "# Inpainting Examples\n",
    "\n",
    "- [Total Variation restoration using \"Linearised ADMM\" algorithm.](tv_inpainting_admm.ipynb)       "
   ]
  }
 ],
 "metadata": {
  "kernelspec": {
   "display_name": "Python [conda env:CIL2_submit]",
   "language": "python",
   "name": "conda-env-CIL2_submit-xpython"
  },
  "language_info": {
   "file_extension": ".py",
   "mimetype": "text/x-python",
   "name": "python",
   "version": "3.7.9"
  }
 },
 "nbformat": 4,
 "nbformat_minor": 4
}
