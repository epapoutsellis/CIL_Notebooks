{
 "cells": [
  {
   "cell_type": "code",
   "execution_count": null,
   "metadata": {},
   "outputs": [],
   "source": [
    "# import libraries\n",
    "from cil.optimisation.functions import L1Norm, MixedL21Norm\n",
    "from cil.optimisation.operators import GradientOperator\n",
    "from cil.optimisation.algorithms import PDHG\n",
    "from cil.utilities import dataexample\n",
    "from cil.utilities import noise\n",
    "from cil.utilities.display import show2D\n",
    "\n",
    "import matplotlib.pyplot as plt\n",
    "import numpy as np\n",
    "\n",
    "from skimage.metrics import structural_similarity as ssim"
   ]
  },
  {
   "cell_type": "code",
   "execution_count": null,
   "metadata": {},
   "outputs": [],
   "source": [
    "# Load a color image from the CIL gallery. \n",
    "data = dataexample.RAINBOW.get(size=(512,512))\n",
    "data.reorder(['horizontal_y', 'horizontal_x','channel'])\n",
    "ig = data.geometry\n",
    "\n",
    "# Add gaussian noise\n",
    "noisy_data = noise.saltnpepper(data, amount=0.1, seed = 10)"
   ]
  },
  {
   "cell_type": "code",
   "execution_count": null,
   "metadata": {},
   "outputs": [],
   "source": [
    "# Setup and run the PDHG algorithm\n",
    "alpha = 1.\n",
    "F = alpha*MixedL21Norm()\n",
    "G = L1Norm(b=noisy_data)\n",
    "K = GradientOperator(ig)\n",
    "\n",
    "# Compute operator Norm\n",
    "normK = K.norm()\n",
    "\n",
    "# Primal & dual stepsizes\n",
    "sigma = 1./normK\n",
    "tau = 1./normK\n",
    "\n",
    "\n",
    "pdhg = PDHG(f=F, g=G, operator=K, tau=tau, sigma=sigma,\n",
    "            max_iteration = 1000, update_objective_interval = 200)\n",
    "pdhg.run(verbose=2)"
   ]
  },
  {
   "cell_type": "code",
   "execution_count": null,
   "metadata": {},
   "outputs": [],
   "source": [
    "val_ssim = ssim(data.as_array(), pdhg.solution.as_array(), data_range = 1., multichannel=True)"
   ]
  },
  {
   "cell_type": "code",
   "execution_count": null,
   "metadata": {},
   "outputs": [],
   "source": [
    "fig, ax = plt.subplots(nrows=2,ncols=2, figsize=(10,10))\n",
    "ax[0,0].imshow(data.as_array())\n",
    "ax[0,0].set_title(\"Ground Truth\")\n",
    "\n",
    "ax[0,1].imshow(noisy_data.as_array())\n",
    "ax[0,1].set_title(\"Corrupted Data (Gaussian)\")\n",
    "ax[1,0].imshow(pdhg.solution.as_array())\n",
    "ax[1,0].set_title(\"Total variation restoration (SSIM = {:.2f}): alpha = {}\".format(val_ssim, alpha))\n",
    "ax[1,1].imshow((pdhg.solution-data).abs().as_array())\n",
    "ax[1,1].set_title(\"Absolute Difference\")\n",
    "plt.tight_layout()\n",
    "plt.show()"
   ]
  }
 ],
 "metadata": {
  "kernelspec": {
   "display_name": "Python [conda env:cil21_ep]",
   "language": "python",
   "name": "conda-env-cil21_ep-py"
  },
  "language_info": {
   "codemirror_mode": {
    "name": "ipython",
    "version": 3
   },
   "file_extension": ".py",
   "mimetype": "text/x-python",
   "name": "python",
   "nbconvert_exporter": "python",
   "pygments_lexer": "ipython3",
   "version": "3.8.8"
  }
 },
 "nbformat": 4,
 "nbformat_minor": 4
}
