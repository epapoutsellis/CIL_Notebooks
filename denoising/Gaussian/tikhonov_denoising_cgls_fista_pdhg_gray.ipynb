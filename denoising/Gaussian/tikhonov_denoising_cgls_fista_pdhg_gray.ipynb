{
 "cells": [
  {
   "cell_type": "code",
   "execution_count": null,
   "metadata": {},
   "outputs": [],
   "source": [
    "# import libraries\n",
    "from cil.framework import BlockDataContainer\n",
    "from cil.optimisation.functions import L2NormSquared, OperatorCompositionFunction\n",
    "from cil.optimisation.operators import GradientOperator, BlockOperator, IdentityOperator\n",
    "from cil.optimisation.algorithms import PDHG, CGLS, FISTA\n",
    "from cil.utilities import dataexample\n",
    "from cil.utilities import noise\n",
    "from cil.utilities.display import show2D\n",
    "\n",
    "import numpy as np\n",
    "\n",
    "from skimage.metrics import structural_similarity as ssim"
   ]
  },
  {
   "cell_type": "code",
   "execution_count": null,
   "metadata": {},
   "outputs": [],
   "source": [
    "# Load an image from the CIL gallery. \n",
    "data = dataexample.SHAPES.get()\n",
    "ig = data.geometry   "
   ]
  },
  {
   "cell_type": "code",
   "execution_count": null,
   "metadata": {},
   "outputs": [],
   "source": [
    "# Add gaussian noise\n",
    "noisy_data = noise.gaussian(data, seed = 10, var = 0.005)"
   ]
  },
  {
   "cell_type": "code",
   "execution_count": null,
   "metadata": {},
   "outputs": [],
   "source": [
    "alpha = 10"
   ]
  },
  {
   "cell_type": "code",
   "execution_count": null,
   "metadata": {},
   "outputs": [],
   "source": [
    "algorithms = [\"CGLS\", \"FISTA\", \"PDHG\"]\n",
    "\n",
    "for algo in algorithms:\n",
    "    \n",
    "    if algo == \"CGLS\":\n",
    "        \n",
    "        # Setup CGLS algorithm with BlockFramework\n",
    "        Grad = GradientOperator(ig)\n",
    "        K = BlockOperator(IdentityOperator(ig), np.sqrt(alpha)*Grad)\n",
    "        b = BlockDataContainer(noisy_data, Grad.range.allocate())\n",
    "\n",
    "        cgls = CGLS(initial = ig.allocate(), operator = K, data = b,\n",
    "                      max_iteration = 500, update_objective_interval = 100, tolerance=1e-12)\n",
    "        cgls.run()  \n",
    "        \n",
    "    elif algo == \"FISTA\":\n",
    "        \n",
    "        # Setup FISTA algorithm \n",
    "        G = L2NormSquared(b=noisy_data)\n",
    "        F = OperatorCompositionFunction(alpha * L2NormSquared(), GradientOperator(ig))\n",
    "\n",
    "        fista = FISTA(initial = ig.allocate(), f = F, g = G, \n",
    "                      max_iteration = 500, update_objective_interval = 100)\n",
    "        fista.run()   \n",
    "        \n",
    "    elif algo == \"PDHG\":\n",
    "        \n",
    "        # Setup PDHG algorithm\n",
    "        F = alpha * L2NormSquared()\n",
    "        G = L2NormSquared(b=noisy_data)\n",
    "        K = GradientOperator(ig)\n",
    "\n",
    "        # Compute operator Norm\n",
    "        normK = K.norm()\n",
    "\n",
    "        # Primal & dual stepsizes\n",
    "        sigma = 1.\n",
    "        tau = 1/(sigma*normK**2)\n",
    "\n",
    "        # Setup and run the PDHG algorithm\n",
    "        pdhg = PDHG(f=F, g=G, operator=K, tau=tau, sigma=sigma,\n",
    "                    max_iteration = 500, update_objective_interval = 100)\n",
    "        pdhg.run(verbose=2)                "
   ]
  },
  {
   "cell_type": "code",
   "execution_count": null,
   "metadata": {},
   "outputs": [],
   "source": [
    "# Compute SSIM from Scikit-Image\n",
    "cgls_ssim = ssim(data.as_array(), cgls.solution.as_array(), data_range = 1.)\n",
    "fista_ssim = ssim(data.as_array(), fista.solution.as_array(), data_range = 1.)\n",
    "pdhg_ssim = ssim(data.as_array(), pdhg.solution.as_array(), data_range = 1.)"
   ]
  },
  {
   "cell_type": "code",
   "execution_count": null,
   "metadata": {},
   "outputs": [],
   "source": [
    "show2D([data, cgls.solution, fista.solution, pdhg.solution],\n",
    "          title=[\"Ground Truth\", \n",
    "                  \"CGLS : SSIM = {:.2f}, alpha = {}\".format(cgls_ssim, alpha), \n",
    "                  \"FISTA : SSIM = {:.2f}, alpha = {}\".format(fista_ssim, alpha),\n",
    "                  \"PDHG : SSIM = {:.2f}, alpha = {}\".format(pdhg_ssim, alpha)])"
   ]
  },
  {
   "cell_type": "code",
   "execution_count": null,
   "metadata": {},
   "outputs": [],
   "source": []
  }
 ],
 "metadata": {
  "kernelspec": {
   "display_name": "Python [conda env:cil21_ep]",
   "language": "python",
   "name": "conda-env-cil21_ep-py"
  },
  "language_info": {
   "codemirror_mode": {
    "name": "ipython",
    "version": 3
   },
   "file_extension": ".py",
   "mimetype": "text/x-python",
   "name": "python",
   "nbconvert_exporter": "python",
   "pygments_lexer": "ipython3",
   "version": "3.8.8"
  }
 },
 "nbformat": 4,
 "nbformat_minor": 4
}
