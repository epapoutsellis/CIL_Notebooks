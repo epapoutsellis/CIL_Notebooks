{
 "cells": [
  {
   "cell_type": "code",
   "execution_count": null,
   "metadata": {},
   "outputs": [],
   "source": [
    "# import libraries\n",
    "import matplotlib.pyplot as plt\n",
    "import numpy as np\n",
    "from cil.optimisation.functions import ZeroFunction, MixedL21Norm, L2NormSquared, BlockFunction, TotalVariation\n",
    "from cil.optimisation.operators import GradientOperator, BlockOperator,IdentityOperator, SymmetrisedGradientOperator, ZeroOperator\n",
    "from cil.optimisation.algorithms import PDHG\n",
    "from cil.utilities import dataexample\n",
    "from cil.utilities import noise\n",
    "\n",
    "from skimage.metrics import structural_similarity as ssim\n",
    "\n",
    "from cil.utilities.display import show2D\n"
   ]
  },
  {
   "cell_type": "code",
   "execution_count": null,
   "metadata": {},
   "outputs": [],
   "source": [
    "# Load an image from the CIL gallery. \n",
    "data = dataexample.SHAPES.get()\n",
    "ig = data.geometry   "
   ]
  },
  {
   "cell_type": "code",
   "execution_count": null,
   "metadata": {},
   "outputs": [],
   "source": [
    "# Add gaussian noise\n",
    "noisy_data = noise.gaussian(data, seed = 10, var = 0.01)"
   ]
  },
  {
   "cell_type": "code",
   "execution_count": null,
   "metadata": {},
   "outputs": [],
   "source": [
    "# Regularisation parameters\n",
    "alpha_tgv = 0.12\n",
    "beta = 2*alpha_tgv"
   ]
  },
  {
   "cell_type": "code",
   "execution_count": null,
   "metadata": {},
   "outputs": [],
   "source": [
    "K11 = GradientOperator(ig)\n",
    "K12 = IdentityOperator(K11.range)\n",
    "K22 = SymmetrisedGradientOperator(K11.range)    \n",
    "K21 = ZeroOperator(ig, K22.range)    \n",
    "\n",
    "K = BlockOperator(K11, -K12, K21, K22, shape=(2,2) )   \n",
    "\n",
    "f1 = alpha_tgv * MixedL21Norm()\n",
    "f2 = beta * MixedL21Norm() \n",
    "f3 = 0.5 * L2NormSquared(b=noisy_data)\n",
    "\n",
    "F = BlockFunction(f1, f2)         \n",
    "G = BlockFunction(f3, ZeroFunction())\n",
    "\n",
    "# Compute operator Norm\n",
    "normK = K.norm()\n",
    "\n",
    "# Primal & dual stepsizes\n",
    "sigma = 1./normK\n",
    "tau = 1./normK\n",
    "\n",
    "# Setup and run the PDHG algorithm\n",
    "pdhg = PDHG(f=F,g=G,operator=K, tau=tau, sigma=sigma,\n",
    "            max_iteration = 2000,\n",
    "            update_objective_interval = 500)\n",
    "pdhg.run(2000, verbose=2)\n"
   ]
  },
  {
   "cell_type": "code",
   "execution_count": null,
   "metadata": {},
   "outputs": [],
   "source": [
    "val_ssim_tgv = ssim(data.as_array(), pdhg.solution.get_item(0).as_array(), data_range = 1.)"
   ]
  },
  {
   "cell_type": "code",
   "execution_count": null,
   "metadata": {},
   "outputs": [],
   "source": [
    "show2D([data, noisy_data, pdhg.solution.get_item(0), pdhg.solution.get_item(1).pnorm(2)],\n",
    "          title=[\"Ground Truth\", \n",
    "                  \"Corrupted Data (Gaussian)\", \n",
    "                  \"TGV (alpha, beta) = ({},{}), SSIM = {:.2f}\".format(alpha_tgv, beta, val_ssim_tgv),\n",
    "                  \"Vector field w\"],\n",
    "         origin = \"upper\")"
   ]
  },
  {
   "cell_type": "code",
   "execution_count": null,
   "metadata": {},
   "outputs": [],
   "source": [
    "# Compare with Total Variation denoising\n",
    "alpha_tv = 0.1\n",
    "TV = alpha_tv * TotalVariation(max_iteration=500)\n",
    "\n",
    "# Run proximal operator for the TotalVariation\n",
    "proxTV = TV.proximal(noisy_data, tau=1.0)\n",
    "val_ssim_tv = ssim(data.as_array(), proxTV.as_array(), data_range = 1.)"
   ]
  },
  {
   "cell_type": "code",
   "execution_count": null,
   "metadata": {},
   "outputs": [],
   "source": [
    "show2D([data, noisy_data, pdhg.solution.get_item(0), proxTV],\n",
    "          title=[\"Ground Truth\", \n",
    "                  \"Corrupted Data (Gaussian)\", \n",
    "                  \"TGV (alpha, beta) = ({},{}), SSIM = {:.2f}\".format(alpha_tgv, beta, val_ssim_tgv),\n",
    "                  \"TV alpha = {}, SSIM = {:.2f}\".format(alpha_tv, val_ssim_tv)],\n",
    "         origin = \"upper\")"
   ]
  },
  {
   "cell_type": "code",
   "execution_count": null,
   "metadata": {},
   "outputs": [],
   "source": [
    "plt.figure(figsize=(15,8))\n",
    "plt.plot(pdhg.solution.get_item(0).as_array()[100], color=\"red\",linestyle='solid', label = \"TGV\")\n",
    "plt.plot(proxTV.as_array()[100], color=\"blue\",linestyle='solid', label = \"TV\")\n",
    "plt.plot(data.as_array()[100], color=\"black\", linestyle='solid', label = \"Ground Truth\")\n",
    "plt.legend(fontsize=15, loc=\"upper center\")\n",
    "plt.show()"
   ]
  }
 ],
 "metadata": {
  "kernelspec": {
   "display_name": "Python [conda env:cil21_ep] *",
   "language": "python",
   "name": "conda-env-cil21_ep-py"
  },
  "language_info": {
   "codemirror_mode": {
    "name": "ipython",
    "version": 3
   },
   "file_extension": ".py",
   "mimetype": "text/x-python",
   "name": "python",
   "nbconvert_exporter": "python",
   "pygments_lexer": "ipython3",
   "version": "3.8.8"
  }
 },
 "nbformat": 4,
 "nbformat_minor": 4
}
