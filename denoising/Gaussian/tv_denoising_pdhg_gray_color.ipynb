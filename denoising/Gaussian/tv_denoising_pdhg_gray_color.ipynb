{
 "cells": [
  {
   "cell_type": "code",
   "execution_count": null,
   "metadata": {},
   "outputs": [],
   "source": [
    "# import libraries\n",
    "from cil.optimisation.functions import L2NormSquared, MixedL21Norm\n",
    "from cil.optimisation.operators import GradientOperator\n",
    "from cil.optimisation.algorithms import PDHG\n",
    "from cil.optimisation.functions import TotalVariation\n",
    "from cil.utilities import dataexample\n",
    "from cil.utilities import noise\n",
    "from cil.utilities.display import show2D\n",
    "\n",
    "import matplotlib.pyplot as plt\n",
    "import numpy as np\n",
    "\n",
    "from skimage.metrics import structural_similarity as ssim"
   ]
  },
  {
   "cell_type": "code",
   "execution_count": null,
   "metadata": {},
   "outputs": [],
   "source": [
    "# Select Color or Gray denoising\n",
    "case = input(\"Select color or gray TV-denoising (Color = 1, Gray = 0)\")"
   ]
  },
  {
   "cell_type": "code",
   "execution_count": null,
   "metadata": {},
   "outputs": [],
   "source": [
    "if case=='1':\n",
    "    \n",
    "    # Load a color image from the CIL gallery. \n",
    "    data = dataexample.PEPPERS.get()\n",
    "    data.reorder(['horizontal_y', 'horizontal_x','channel'])\n",
    "    ig = data.geometry\n",
    "        \n",
    "    # TV regularisation parameter\n",
    "    alpha = 0.3\n",
    "    \n",
    "elif case=='0':\n",
    "    \n",
    "    # Load an image from the CIL gallery. \n",
    "    data = dataexample.SHAPES.get()\n",
    "    ig = data.geometry    \n",
    "    \n",
    "    # TV regularisation parameter\n",
    "    alpha = 0.1\n",
    "    \n",
    "# Add gaussian noise\n",
    "noisy_data = noise.gaussian(data, seed = 10, var = 0.005)"
   ]
  },
  {
   "cell_type": "code",
   "execution_count": null,
   "metadata": {},
   "outputs": [],
   "source": [
    "# Setup and run the PDHG algorithm\n",
    "F = alpha * MixedL21Norm()\n",
    "G = 0.5 * L2NormSquared(b=noisy_data)\n",
    "K = GradientOperator(ig)\n",
    "\n",
    "# Compute operator Norm\n",
    "normK = K.norm()\n",
    "\n",
    "# Primal & dual stepsizes\n",
    "sigma = 1./normK\n",
    "tau = 1./normK\n",
    "\n",
    "pdhg = PDHG(f=F, g=G, operator=K, tau=tau, sigma=sigma,\n",
    "            max_iteration = 1000, update_objective_interval = 200)\n",
    "pdhg.run(verbose=2)"
   ]
  },
  {
   "cell_type": "code",
   "execution_count": null,
   "metadata": {},
   "outputs": [],
   "source": [
    "# Compute SSIM from Scikit-Image\n",
    "if case=='1':\n",
    "    val_ssim = ssim(data.as_array(), pdhg.solution.as_array(), data_range = 1., multichannel=True)\n",
    "else:\n",
    "    val_ssim = ssim(data.as_array(), pdhg.solution.as_array(), data_range = 1.)"
   ]
  },
  {
   "cell_type": "code",
   "execution_count": null,
   "metadata": {},
   "outputs": [],
   "source": [
    "if case=='1':\n",
    "    \n",
    "    fig, ax = plt.subplots(nrows=2,ncols=2, figsize=(10,10))\n",
    "    ax[0,0].imshow(data.as_array())\n",
    "    ax[0,0].set_title(\"Ground Truth\")\n",
    "    \n",
    "    ax[0,1].imshow(noisy_data.as_array())\n",
    "    ax[0,1].set_title(\"Corrupted Data (Gaussian)\")\n",
    "    ax[1,0].imshow(pdhg.solution.as_array())\n",
    "    ax[1,0].set_title(\"Total variation restoration (SSIM = {:.2f}): alpha = {}\".format(val_ssim, alpha))\n",
    "    ax[1,1].imshow((pdhg.solution-data).abs().as_array())\n",
    "    ax[1,1].set_title(\"Absolute Difference\")\n",
    "    plt.tight_layout()\n",
    "    plt.show()\n",
    "\n",
    "else:\n",
    "    \n",
    "    show2D([data, noisy_data, pdhg.solution, (pdhg.solution-data).abs()],\n",
    "          title=[\"Ground Truth\", \n",
    "                  \"Corrupted Data (Gaussian)\", \n",
    "                  \"Total variation restoration (SSIM = {:.2f}): alpha = {}\".format(val_ssim, alpha),\n",
    "                  \"Absolute Difference\"],\n",
    "         origin = \"upper\")"
   ]
  },
  {
   "cell_type": "code",
   "execution_count": null,
   "metadata": {},
   "outputs": [],
   "source": [
    "# Use Total Variation function. \n",
    "# The proximal method solves the dual of the ROF problem.\n",
    "# using the Fast Gradient Projection (FGP) algoritm\n",
    "fgp_tv_recon = (alpha*TotalVariation(max_iteration=500)).proximal(noisy_data, tau=1.)"
   ]
  },
  {
   "cell_type": "code",
   "execution_count": null,
   "metadata": {},
   "outputs": [],
   "source": [
    "if case=='1':\n",
    "    \n",
    "    fig, ax = plt.subplots(nrows=2,ncols=2, figsize=(10,10))\n",
    "    ax[0,0].imshow(data.as_array())\n",
    "    ax[0,0].set_title(\"Ground Truth\")\n",
    "    ax[0,1].imshow(noisy_data.as_array())\n",
    "    ax[0,1].set_title(\"Corrupted Data (Gaussian)\")\n",
    "    ax[1,0].imshow(fgp_tv_recon.as_array())\n",
    "    ax[1,0].set_title(\"Total variation restoration (SSIM = {:.2f}): alpha = {}\".format(val_ssim, alpha))\n",
    "    ax[1,1].imshow((fgp_tv_recon-data).abs().as_array())\n",
    "    ax[1,1].set_title(\"Absolute Difference\")\n",
    "    plt.tight_layout()\n",
    "    plt.show()\n",
    "\n",
    "else:\n",
    "    show2D([data, noisy_data, fgp_tv_recon, (fgp_tv_recon-pdhg.solution).abs()],\n",
    "          title=[\"Ground Truth\", \n",
    "                  \"Corrupted Data (Gaussian)\", \n",
    "                  \"Total variation restoration (SSIM = {:.2f}): alpha = {}\".format(val_ssim, alpha),\n",
    "                  \"Absolute Difference PDHG vs FGP_TV\"],\n",
    "         origin = \"upper\")"
   ]
  },
  {
   "cell_type": "code",
   "execution_count": null,
   "metadata": {},
   "outputs": [],
   "source": []
  }
 ],
 "metadata": {
  "kernelspec": {
   "display_name": "Python [conda env:cil21_ep]",
   "language": "python",
   "name": "conda-env-cil21_ep-py"
  },
  "language_info": {
   "codemirror_mode": {
    "name": "ipython",
    "version": 3
   },
   "file_extension": ".py",
   "mimetype": "text/x-python",
   "name": "python",
   "nbconvert_exporter": "python",
   "pygments_lexer": "ipython3",
   "version": "3.8.8"
  }
 },
 "nbformat": 4,
 "nbformat_minor": 4
}
