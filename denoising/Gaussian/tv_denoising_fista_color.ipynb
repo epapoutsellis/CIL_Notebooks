{
 "cells": [
  {
   "cell_type": "code",
   "execution_count": null,
   "metadata": {},
   "outputs": [],
   "source": [
    "# import libraries\n",
    "from cil.optimisation.functions import TotalVariation, L2NormSquared\n",
    "from cil.framework import ImageGeometry\n",
    "from cil.utilities import noise\n",
    "\n",
    "from skimage import data\n",
    "from skimage.metrics import structural_similarity as ssim\n",
    "\n",
    "import matplotlib.pyplot as plt\n",
    "import numpy as np"
   ]
  },
  {
   "cell_type": "code",
   "execution_count": null,
   "metadata": {},
   "outputs": [],
   "source": [
    "# Load chelsea image from skimage\n",
    "image = data.astronaut().astype(\"float32\")/255.0"
   ]
  },
  {
   "cell_type": "code",
   "execution_count": null,
   "metadata": {},
   "outputs": [],
   "source": [
    "# Setup the image domain and fill the image into an ImageData\n",
    "ig = ImageGeometry(voxel_num_y=image.shape[1], voxel_num_x=image.shape[0], channels=image.shape[2],\n",
    "                  dimension_labels=['horizontal_x', 'horizontal_y', 'channel'])\n",
    "data = ig.allocate()\n",
    "data.fill(image)"
   ]
  },
  {
   "cell_type": "code",
   "execution_count": null,
   "metadata": {},
   "outputs": [],
   "source": [
    "# Add gaussian noise\n",
    "noisy_data = noise.gaussian(data, seed = 10, var = 0.005)"
   ]
  },
  {
   "cell_type": "code",
   "execution_count": null,
   "metadata": {},
   "outputs": [],
   "source": [
    "# Regularisation parameter for the Total variation term\n",
    "alpha = 0.1\n",
    "TV = alpha * TotalVariation(max_iteration=100)\n",
    "\n",
    "# Run proximal operator for the TotalVariation\n",
    "proxTV = TV.proximal(noisy_data, tau=1.0)"
   ]
  },
  {
   "cell_type": "code",
   "execution_count": null,
   "metadata": {},
   "outputs": [],
   "source": [
    "# Compute SSIM from Scikit-Image\n",
    "val_ssim = ssim(data.as_array(), proxTV.as_array(), data_range = 1., multichannel=True)"
   ]
  },
  {
   "cell_type": "code",
   "execution_count": null,
   "metadata": {},
   "outputs": [],
   "source": [
    "fig, ax = plt.subplots(nrows=2,ncols=2, figsize=(10,10))\n",
    "ax[0,0].imshow(data.as_array())\n",
    "ax[0,0].set_title(\"Ground Truth\")\n",
    "ax[0,1].imshow(noisy_data.as_array())\n",
    "ax[0,1].set_title(\"Corrupted Data (Gaussian)\")\n",
    "ax[1,0].imshow(proxTV.as_array())\n",
    "ax[1,0].set_title(\"Total variation restoration (SSIM = {:.2f}): alpha = {}\".format(val_ssim, alpha))\n",
    "ax[1,1].imshow((proxTV-data).abs().as_array())\n",
    "ax[1,1].set_title(\"Absolute Difference\")\n",
    "plt.tight_layout()\n",
    "plt.show()"
   ]
  },
  {
   "cell_type": "code",
   "execution_count": null,
   "metadata": {},
   "outputs": [],
   "source": []
  }
 ],
 "metadata": {
  "kernelspec": {
   "display_name": "Python [conda env:cil21_ep]",
   "language": "python",
   "name": "conda-env-cil21_ep-py"
  },
  "language_info": {
   "codemirror_mode": {
    "name": "ipython",
    "version": 3
   },
   "file_extension": ".py",
   "mimetype": "text/x-python",
   "name": "python",
   "nbconvert_exporter": "python",
   "pygments_lexer": "ipython3",
   "version": "3.8.8"
  }
 },
 "nbformat": 4,
 "nbformat_minor": 4
}
