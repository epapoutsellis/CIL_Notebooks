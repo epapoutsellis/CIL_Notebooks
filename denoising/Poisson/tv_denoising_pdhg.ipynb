{
 "cells": [
  {
   "cell_type": "code",
   "execution_count": null,
   "metadata": {},
   "outputs": [],
   "source": [
    "# import libraries\n",
    "# import matplotlib.pyplot as plt\n",
    "# import numpy as np\n",
    "from cil.optimisation.functions import KullbackLeibler, MixedL21Norm\n",
    "from cil.optimisation.operators import GradientOperator\n",
    "from cil.optimisation.algorithms import PDHG\n",
    "from cil.framework import ImageGeometry\n",
    "from cil.utilities import noise\n",
    "\n",
    "from cil.utilities.display import show2D\n",
    "from skimage.metrics import structural_similarity as ssim\n",
    "import os, sys\n",
    "import tomophantom\n",
    "from tomophantom import TomoP2D"
   ]
  },
  {
   "cell_type": "code",
   "execution_count": null,
   "metadata": {},
   "outputs": [],
   "source": [
    "# Load a tomophantom image \n",
    "model = 12 # select a model number from the library\n",
    "N = 256 # set dimension of the phantom\n",
    "path = os.path.dirname(tomophantom.__file__)\n",
    "path_library2D = os.path.join(path, \"Phantom2DLibrary.dat\")\n",
    "\n",
    "phantom2D = TomoP2D.Model(model, N, path_library2D)    \n",
    "ig = ImageGeometry(voxel_num_x=N, voxel_num_y=N)"
   ]
  },
  {
   "cell_type": "code",
   "execution_count": null,
   "metadata": {},
   "outputs": [],
   "source": [
    "# Fill the phantom \n",
    "data = ig.allocate()\n",
    "data.fill(phantom2D)"
   ]
  },
  {
   "cell_type": "code",
   "execution_count": null,
   "metadata": {},
   "outputs": [],
   "source": [
    "# Corrupt with poisson noise\n",
    "noisy_data = noise.poisson(data, seed = 10)"
   ]
  },
  {
   "cell_type": "code",
   "execution_count": null,
   "metadata": {},
   "outputs": [],
   "source": [
    "alpha = 0.3\n",
    "\n",
    "F = alpha * MixedL21Norm()\n",
    "G = KullbackLeibler(b=noisy_data)\n",
    "K = GradientOperator(ig)\n",
    "\n",
    "# Compute operator Norm\n",
    "normK = K.norm()\n",
    "\n",
    "# Primal & dual stepsizes\n",
    "sigma = 1./normK\n",
    "tau = 1./normK\n",
    "\n",
    "# Setup and run the PDHG algorithm\n",
    "pdhg = PDHG(f=F, g=G, operator=K, tau=tau, sigma=sigma,\n",
    "            max_iteration = 500, update_objective_interval = 100)\n",
    "pdhg.run(verbose=2)"
   ]
  },
  {
   "cell_type": "code",
   "execution_count": null,
   "metadata": {},
   "outputs": [],
   "source": [
    "val_ssim_tv = ssim(data.as_array(), pdhg.solution.as_array(), data_range = 1.)"
   ]
  },
  {
   "cell_type": "code",
   "execution_count": null,
   "metadata": {},
   "outputs": [],
   "source": [
    "show2D([data, noisy_data, pdhg.solution, (pdhg.solution-data).abs()],\n",
    "          title=[\"Ground Truth\", \n",
    "                  \"Corrupted Data (Poisson)\", \n",
    "                  \"Total variation restoration (SSIM = {:.2f}): alpha = {}\".format(val_ssim_tv, alpha),\n",
    "                  \"Absolute Difference\"],\n",
    "         origin = \"upper\", cmap=\"inferno\", size=(10,10))"
   ]
  },
  {
   "cell_type": "code",
   "execution_count": null,
   "metadata": {},
   "outputs": [],
   "source": []
  }
 ],
 "metadata": {
  "kernelspec": {
   "display_name": "Python [conda env:cil21_ep] *",
   "language": "python",
   "name": "conda-env-cil21_ep-py"
  },
  "language_info": {
   "codemirror_mode": {
    "name": "ipython",
    "version": 3
   },
   "file_extension": ".py",
   "mimetype": "text/x-python",
   "name": "python",
   "nbconvert_exporter": "python",
   "pygments_lexer": "ipython3",
   "version": "3.8.8"
  }
 },
 "nbformat": 4,
 "nbformat_minor": 4
}
