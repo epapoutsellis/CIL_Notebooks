{
 "cells": [
  {
   "cell_type": "markdown",
   "metadata": {},
   "source": [
    "# Denoising Examples\n",
    "\n",
    "## Gaussian Noise\n",
    "\n",
    "   - [Total Variation restoration (gray) using \"Primal Dual Hybrid Gradient\" (PDHG) algorithm.](Gaussian/tv_denoising_pdhg_gray.ipynb)   \n",
    "   - [Total Variation restoration (color) using \"Primal Dual Hybrid Gradient\" (PDHG) algorithm.](Gaussian/tv_denoising_pdhg_color.ipynb)  \n",
    "   - [Total Variation restoration (color) using \"Fast Iterative Shrinkage-Thresholding algorithm\" (FISTA).](Gaussian/tv_denoising_fista_color.ipynb)     \n",
    "   - [Tikhonov regularisation (gray) using \"Primal Dual Hybrid Gradient\" (PDHG) algorithm.](Gaussian/tikhonov_denoising_pdhg_color.ipynb)     \n",
    "   - [Tikhonov regularisation (gray) using \"Conjugate Gradient Least Squares\" (CGLS) algorithm.](Gaussian/tv_denoising_pdhg_color.ipynb)  \n",
    "   - [Tikhonov regularisation (color) using \"Fast Iterative Shrinkage-Thresholding algorithm\" (FISTA).](Gaussian/tv_denoising_pdhg_color.ipynb)        \n",
    "   - [Total Generalied Variation (gray) (restoration using \"Primal Dual Hybrid Gradient\" (PDHG) algorithm.](Gaussian/tgv_denoising_pdhg_gray.ipynb) \n",
    "   \n",
    "   - TODO\n",
    "           - Smooth Total variation\n",
    "           - Huber Total variation\n",
    "           - Gradient Descent           \n",
    "       \n",
    "## Salt & Pepper Noise\n",
    "\n",
    "   - [Total Variation restoration (gray) using \"Primal Dual Hybrid Gradient\" (PDHG) algorithm.](SaltandPepper/tv_denoising_pdhg_gray.ipynb)\n",
    "            \n",
    "## Poisson Noise\n",
    "\n",
    "   - [Total Variation restoration (gray) using \"Primal Dual Hybrid Gradient\" (PDHG) algorithm.](SaltandPepper/tv_denoising_pdhg_gray.ipynb)"
   ]
  },
  {
   "cell_type": "code",
   "execution_count": null,
   "metadata": {},
   "outputs": [],
   "source": []
  }
 ],
 "metadata": {
  "kernelspec": {
   "display_name": "Python [conda env:CIL2_submit] *",
   "language": "python",
   "name": "conda-env-CIL2_submit-xpython"
  },
  "language_info": {
   "file_extension": ".py",
   "mimetype": "text/x-python",
   "name": "python",
   "version": "3.7.9"
  }
 },
 "nbformat": 4,
 "nbformat_minor": 4
}
