{
 "cells": [
  {
   "cell_type": "markdown",
   "metadata": {},
   "source": [
    "# Denoising Examples\n",
    "\n",
    "## Gaussian Noise\n",
    "\n",
    "   - [Total Variation restoration (gray/color) using \"Primal Dual Hybrid Gradient\" (PDHG) algorithm.](Gaussian/tv_denoising_pdhg_gray_color.ipynb)    \n",
    "   - [Total Variation restoration (color) using \"Fast Iterative Shrinkage-Thresholding algorithm\" (FISTA).](Gaussian/tv_denoising_fista_color.ipynb)     \n",
    "   - [Tikhonov regularisation (gray) using CGLS, FISTA and PDHG algorithms.](Gaussian/tikhonov_denoising_cgls_fista_pdhg_gray.ipynb)             \n",
    "   - [Total Generalied Variation (gray) (restoration using \"Primal Dual Hybrid Gradient\" (PDHG) algorithm.](Gaussian/tgv_denoising_pdhg_color.ipynb) \n",
    "                   \n",
    "## Salt & Pepper Noise\n",
    "\n",
    "   - [Total Variation restoration (gray) using \"Primal Dual Hybrid Gradient\" (PDHG) algorithm.](SaltandPepper/tv_denoising_pdhg_color.ipynb)\n",
    "            \n",
    "## Poisson Noise\n",
    "\n",
    "   - [Total Variation restoration (gray) using \"Primal Dual Hybrid Gradient\" (PDHG) algorithm.](Poisson/tv_denoising_pdhg.ipynb)"
   ]
  },
  {
   "cell_type": "code",
   "execution_count": null,
   "metadata": {},
   "outputs": [],
   "source": []
  }
 ],
 "metadata": {
  "kernelspec": {
   "display_name": "Python [conda env:CIL2_submit]",
   "language": "python",
   "name": "conda-env-CIL2_submit-xpython"
  },
  "language_info": {
   "file_extension": ".py",
   "mimetype": "text/x-python",
   "name": "python",
   "version": "3.7.9"
  }
 },
 "nbformat": 4,
 "nbformat_minor": 4
}
